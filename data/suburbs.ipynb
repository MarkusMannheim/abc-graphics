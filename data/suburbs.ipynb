{
 "cells": [
  {
   "cell_type": "code",
   "execution_count": 9,
   "id": "b2e05344-6c0b-43a2-943f-1776472cc658",
   "metadata": {},
   "outputs": [],
   "source": [
    "# import pandas as pd, geopandas as gpd\n",
    "\n",
    "# suburbs = gpd.read_file(\"SAL_2021_AUST_GDA2020_SHP (1).zip\")\n",
    "# suburbs = suburbs[(suburbs[\"SHAPE_Area\"] > 0) & (suburbs[\"STE_CODE21\"] == '8')& (suburbs[\"SAL_NAME21\"].apply(lambda x: \"Remainder\" not in x))]\n",
    "# suburbs = suburbs[[\"SAL_NAME21\"]]\n",
    "# suburbs.columns = [\"name\"]\n",
    "# suburbs[\"name\"] = suburbs[\"name\"].apply(lambda x: x.replace(\" (ACT)\", \"\"))\n",
    "# suburbs.to_csv(\"suburbs.csv\", index=False)"
   ]
  }
 ],
 "metadata": {
  "kernelspec": {
   "display_name": "Python 3 (ipykernel)",
   "language": "python",
   "name": "python3"
  },
  "language_info": {
   "codemirror_mode": {
    "name": "ipython",
    "version": 3
   },
   "file_extension": ".py",
   "mimetype": "text/x-python",
   "name": "python",
   "nbconvert_exporter": "python",
   "pygments_lexer": "ipython3",
   "version": "3.9.7"
  }
 },
 "nbformat": 4,
 "nbformat_minor": 5
}
