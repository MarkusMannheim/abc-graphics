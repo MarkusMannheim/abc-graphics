{
 "cells": [
  {
   "cell_type": "code",
   "execution_count": 168,
   "id": "3b84c145-8267-4689-b568-ffa1ec980d22",
   "metadata": {},
   "outputs": [
    {
     "data": {
      "text/plain": [
       "<AxesSubplot:xlabel='price', ylabel='Count'>"
      ]
     },
     "execution_count": 168,
     "metadata": {},
     "output_type": "execute_result"
    },
    {
     "data": {
      "image/png": "[encoded data removed]",
      "text/plain": [
       "<Figure size 864x432 with 1 Axes>"
      ]
     },
     "metadata": {},
     "output_type": "display_data"
    }
   ],
   "source": [
    "import pandas as pd, matplotlib.pyplot as plt, seaborn as sns\n",
    "sns.set(font_scale=1.25)\n",
    "\n",
    "# load and format data\n",
    "data = pd.read_csv(\"scrapedData.csv\")\n",
    "data[\"contract date\"] = pd.to_datetime(data[\"contract date\"], format=\"%d/%m/%Y\")\n",
    "data[\"price\"] = pd.to_numeric(data[\"price\"].apply(lambda x: x.replace(\"$\", \"\").replace(\",\", \"\")), errors=\"coerce\")\n",
    "data[\"block size\"] = pd.to_numeric(data[\"block size\"].apply(lambda x: x.replace(\"m2\", \"\")), errors=\"coerce\")\n",
    "residences = [\n",
    "    '–', 'Single residential dwelling...', 'Single residential dwelling',\n",
    "    'Multiple unit dwelling', 'Cottage block', 'Medium density dwelling', 'Dwelling',\n",
    "    'Caretakers residence', 'Detached house', 'Residence', 'Vacant land'\n",
    "]\n",
    "suburbs = [\n",
    "    \"Fyshwick\", \"Mitchell\", \"Beard\", \"Hume\", \"Symonston\", \"Canberra Airport\",\n",
    "    \"Pialligo\"\n",
    "]\n",
    "data = data[\n",
    "    (data[\"contract date\"] > pd.Timestamp(\"2019-06-30\")) &\n",
    "    (data[\"contract date\"] < pd.Timestamp(\"2021-07-01\")) &\n",
    "    (data[\"purpose\"].apply(lambda x: x in residences)) &\n",
    "    (data[\"price\"] > 100000) &\n",
    "    (data[\"suburb\"].apply(lambda x: x not in suburbs))\n",
    "]\n",
    "data[\"FY\"] = data[\"contract date\"].apply(lambda x: 0 if x < pd.Timestamp(\"2020-07-01\") else 1)\n",
    "for i in data.index:\n",
    "    if data.at[i, \"purpose\"] == \"Single residential dwelling...\":\n",
    "        type = 0\n",
    "    elif data.at[i, \"purpose\"] == \"Single residential dwelling\":\n",
    "        type = 0\n",
    "    elif data.at[i, \"purpose\"] == \"Cottage block\":\n",
    "        type = 0\n",
    "    elif data.at[i, \"purpose\"] == \"Caretakers residence\":\n",
    "        type = 0\n",
    "    elif data.at[i, \"purpose\"] == \"Detached house\":\n",
    "        type = 0\n",
    "    elif data.at[i, \"purpose\"] == \"Vacant land\":\n",
    "        type = 0\n",
    "    elif (data.at[i, \"source\"] == \"Allhomes Record\") & (\"/\" not in data.at[i, \"address\"]) & (data.at[i, \"block size\"] < 2000):\n",
    "        type = 0\n",
    "    else :\n",
    "        type = 1\n",
    "    data.at[i, \"type\"] = type        \n",
    "\n",
    "fig, ax = plt.subplots(\n",
    "#     2, 1,\n",
    "    figsize=(12, 6)\n",
    ")\n",
    "sns.histplot(data=data[(data.type == 0) & (data.price < 2000000)], x=\"price\", bins=50, ax=ax, hue=\"FY\")\n",
    "# sns.histplot(data=data[(data.FY == 1) & (data.price < 2000000)], x=\"price\", bins=50, ax=ax[1], hue=\"type\")"
   ]
  },
  {
   "cell_type": "code",
   "execution_count": 219,
   "id": "5672e586-9c5b-4eca-ba60-e02652e692aa",
   "metadata": {},
   "outputs": [
    {
     "data": {
      "text/plain": [
       "0.10088119112731693"
      ]
     },
     "execution_count": 219,
     "metadata": {},
     "output_type": "execute_result"
    }
   ],
   "source": [
    "len(data[(data.FY == 1) & (data.price < 500000) & (data.type == 0)]) / len(data[(data.FY == 1) & (data.type == 0)])"
   ]
  },
  {
   "cell_type": "code",
   "execution_count": 239,
   "id": "f0f5c6c5-f8a3-488f-afa3-3096e58f9cd1",
   "metadata": {},
   "outputs": [],
   "source": [
    "bins = list(range(50000, 2050000, 50000))\n",
    "hist2020 = pd.DataFrame(columns=[\"apartments\", \"houses/land\"], index=bins)\n",
    "hist2021 = pd.DataFrame(columns=[\"apartments\", \"houses/land\"], index=bins)\n",
    "hist2020[\"apartments\"] = 0\n",
    "hist2021[\"apartments\"] = 0\n",
    "hist2020[\"houses/land\"] = 0\n",
    "hist2021[\"houses/land\"] = 0\n",
    "\n",
    "for i in data[data.FY == 0].index:\n",
    "    for bin in bins:\n",
    "        if data.at[i, \"price\"] <= bin:\n",
    "            if data.at[i, \"type\"] == 0:\n",
    "                hist2020.at[bin, \"houses/land\"] = hist2020.at[bin, \"houses/land\"] + 1\n",
    "            else:\n",
    "                hist2020.at[bin, \"apartments\"] = hist2020.at[bin, \"apartments\"] + 1\n",
    "            break\n",
    "\n",
    "for i in data[data.FY == 1].index:\n",
    "    for bin in bins:\n",
    "        if data.at[i, \"price\"] <= bin:\n",
    "            if data.at[i, \"type\"] == 0:\n",
    "                hist2021.at[bin, \"houses/land\"] = hist2021.at[bin, \"houses/land\"] + 1\n",
    "            else:\n",
    "                hist2021.at[bin, \"apartments\"] = hist2021.at[bin, \"apartments\"] + 1\n",
    "            break\n",
    "\n",
    "hist2020.index.name = \"bin\"\n",
    "hist2021.index.name = \"bin\"\n",
    "hist2020.to_csv(\"hist2020.csv\")\n",
    "hist2021.to_csv(\"hist2021.csv\")"
   ]
  }
 ],
 "metadata": {
  "kernelspec": {
   "display_name": "Python 3 (ipykernel)",
   "language": "python",
   "name": "python3"
  },
  "language_info": {
   "codemirror_mode": {
    "name": "ipython",
    "version": 3
   },
   "file_extension": ".py",
   "mimetype": "text/x-python",
   "name": "python",
   "nbconvert_exporter": "python",
   "pygments_lexer": "ipython3",
   "version": "3.9.5"
  }
 },
 "nbformat": 4,
 "nbformat_minor": 5
}
